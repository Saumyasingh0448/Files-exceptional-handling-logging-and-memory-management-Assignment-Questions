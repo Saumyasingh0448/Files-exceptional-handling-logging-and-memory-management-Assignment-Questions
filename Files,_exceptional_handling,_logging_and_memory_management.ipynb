{
  "nbformat": 4,
  "nbformat_minor": 0,
  "metadata": {
    "colab": {
      "provenance": []
    },
    "kernelspec": {
      "name": "python3",
      "display_name": "Python 3"
    },
    "language_info": {
      "name": "python"
    }
  },
  "cells": [
    {
      "cell_type": "markdown",
      "source": [
        "\n",
        "# Theory **Questions**\n",
        "\n",
        "1. What is the difference between interpreted and compiled languages?\n",
        "- Interpreted languages execute code line-by-line at runtime, making them slower but more flexible (e.g., Python, JavaScript). Compiled languages convert code into machine code before execution, making them faster but less flexible (e.g., C, C++).\n",
        "\n",
        "2. What is exception handling in Python?\n",
        "- Exception handling in Python is a mechanism to handle runtime errors using try, except, finally, and raise blocks, preventing program crashes and ensuring smooth execution.\n",
        "\n",
        "3. What is the purpose of the finally block in exception handling?\n",
        "- The finally block in exception handling is used to execute code regardless of whether an exception occurs or not, ensuring cleanup actions like closing files or releasing resources.\n",
        "\n",
        "4. What is logging in Python?\n",
        "- Logging in Python is a way to track events during program execution, helping in debugging and monitoring. It is implemented using the logging module to record messages at different severity levels (DEBUG, INFO, WARNING, ERROR, CRITICAL).\n",
        "\n",
        "5. What is the significance of the __del__ method in Python?\n",
        "- The __del__ method in Python is a destructor that is called when an object is about to be destroyed, helping in resource cleanup like closing files or releasing memory.\n",
        "\n",
        "6.  What is the difference between import and from ... import in Python?\n",
        "- import module imports the entire module, requiring access via module.function().\n",
        "\n",
        "from module import function imports specific functions or variables, allowing direct use without the module prefix.\n",
        "\n",
        "7. How can you handle multiple exceptions in Python?\n",
        "- In Python, handling multiple exceptions is essential to ensure that different types of errors are managed appropriately, preventing unexpected crashes and improving program reliability. Python provides several ways to handle multiple exceptions effectively:\n",
        "\n",
        "8. What is the purpose of the with statement when handling files in Python?\n",
        "- The with statement in Python is used for handling files efficiently. It ensures that the file is automatically closed after the block execution, preventing resource leaks and making code cleaner.\n",
        "\n",
        "9. What is the difference between multithreading and multiprocessing?\n",
        "-Multithreading: Uses multiple threads within the same process, sharing memory. It is suitable for I/O-bound tasks but limited by the Global Interpreter Lock (GIL) in Python.\n",
        "\n",
        "Multiprocessing: Uses multiple processes, each with its own memory space. It is ideal for CPU-bound tasks and bypasses the GIL, enabling true parallel execution.\n",
        "\n",
        "10. What are the advantages of using logging in a program?\n",
        "- The advantages of using logging in a program include:\n",
        "\n",
        "Debugging & Troubleshooting – Helps identify and fix issues.\n",
        "\n",
        "Error Tracking – Records errors and exceptions for analysis.\n",
        "\n",
        "Performance Monitoring – Logs execution time and system behavior.\n",
        "\n",
        "11.  What is memory management in Python?\n",
        "- Memory management in Python refers to the process of allocating and deallocating memory automatically to optimize performance and prevent memory leaks. Python uses:\n",
        "\n",
        "Automatic Garbage Collection – Removes unused objects to free memory.\n",
        "\n",
        "Reference Counting – Keeps track of object references and deletes objects with zero references.\n",
        "\n",
        "12. What are the basic steps involved in exception handling in Python?\n",
        "The basic steps involved in exception handling in Python are:\n",
        "\n",
        "Try Block (try) – Wraps the code that may raise an exception.\n",
        "\n",
        "Except Block (except) – Catches and handles the specific exception.\n",
        "\n",
        "Else Block (else) – Executes code if no exception occurs (optional).\n",
        "\n",
        "13. Why is memory management important in Python?\n",
        "-Memory management is important in Python because it ensures efficient use of system resources, prevents memory leaks, and improves program performance. Key reasons include:\n",
        "\n",
        "Optimized Resource Usage – Prevents excessive memory consumption.\n",
        "\n",
        "Automatic Garbage Collection – Frees unused objects to avoid memory leaks.\n",
        "\n",
        "14. What is the role of try and except in exception handling?\n",
        "The try and except blocks play a crucial role in exception handling in Python:\n",
        "\n",
        "try Block: Contains the code that may raise an exception.\n",
        "\n",
        "except Block: Catches and handles specific exceptions to prevent program crashes.\n",
        "\n",
        "15. How does Python's garbage collection system work?\n",
        "Python's garbage collection system works by automatically managing memory through:\n",
        "\n",
        "Reference Counting: Deletes objects when their reference count reaches zero.\n",
        "\n",
        "Garbage Collector (GC): Handles cyclic references using generational garbage collection.\n",
        "\n",
        "16. What is the purpose of the else block in exception handling?\n",
        "-The else block in exception handling is used to execute code only if no exceptions occur in the try block. It helps separate error-handling code from normal execution.\n",
        "\n",
        "17. What are the common logging levels in Python?\n",
        "Python's logging module provides the following common logging levels:\n",
        "\n",
        "DEBUG (10) – Detailed information for debugging.\n",
        "\n",
        "INFO (20) – General events and program execution details.\n",
        "\n",
        "18. What is the difference between os.fork() and multiprocessing in Python?\n",
        "-The difference between os.fork() and the multiprocessing module in Python lies in how they create and manage new processes:\n",
        "\n",
        "19. What is the importance of closing a file in Python?\n",
        "-Closing a file in Python is important because it:\n",
        "\n",
        "Frees System Resources – Releases memory and file handles.\n",
        "\n",
        "Prevents Data Loss – Ensures all buffered data is written to the file.\n",
        "\n",
        "Avoids File Corruption – Prevents issues when multiple processes access the file.\n",
        "\n",
        "20. What is the difference between file.read() and file.readline() in Python?\n",
        "-The difference between file.read() and file.readline() in Python is:\n",
        "\n",
        "1. file.read(size)\n",
        "Reads the entire file or a specified number of bytes.\n",
        "\n",
        "Returns a string containing the file content.\n",
        "\n",
        "2. file.readline()\n",
        "Reads one line at a time from the file.\n",
        "\n",
        "Returns a string containing the line, including the newline character (\\n).\n",
        "\n",
        "21. What is the logging module in Python used for?\n",
        "-The logging module in Python is used for tracking events during program execution. It helps in debugging, monitoring, and maintaining logs efficiently\n",
        "\n",
        "22. What is the os module in Python used for in file handling?\n",
        "-The os module in Python is used for interacting with the operating system, including file handling tasks such as creating, deleting, and modifying files and directories.\n",
        "\n",
        "23. What are the challenges associated with memory management in Python?\n",
        "-1. Memory Leaks\n",
        "Objects with circular references may not be collected properly by the garbage collector.\n",
        "\n",
        "Solution: Use the gc module to manually collect garbage.\n",
        "\n",
        "2. High Memory Usage\n",
        "-Python's dynamic typing and object-oriented nature lead to higher memory consumption.\n",
        "\n",
        "Solution: Use memory-efficient data structures (array, deque) instead of lists.\n",
        "\n",
        "24.  How do you raise an exception manually in Python?\n",
        "- You can raise an exception manually in Python using the raise keyword. This is useful for handling custom errors or enforcing constraints in your program.\n",
        "\n",
        "25. Why is it important to use multithreading in certain applications?\n",
        "-Multithreading is important in certain applications because it allows multiple tasks to run concurrently within the same process, improving performance and responsiveness.\n"
      ],
      "metadata": {
        "id": "9DQIej7U4Bf8"
      }
    },
    {
      "cell_type": "markdown",
      "source": [
        "PRACTICAL QUESTIONS\n",
        "\n",
        "1. How can you open a file for writing in Python and write a string to it?"
      ],
      "metadata": {
        "id": "KzGQ1510_6PH"
      }
    },
    {
      "cell_type": "code",
      "execution_count": null,
      "metadata": {
        "id": "podQysPv3jAq"
      },
      "outputs": [],
      "source": [
        "\n",
        "with open(\"example.txt\", \"w\") as file:\n",
        "    file.write(\"Hello, this is a test file.\")"
      ]
    },
    {
      "cell_type": "markdown",
      "source": [
        "2.  Write a Python program to read the contents of a file and print each line?"
      ],
      "metadata": {
        "id": "dNBmm9CE32q7"
      }
    },
    {
      "cell_type": "code",
      "source": [
        "\n",
        "with open(\"example.txt\", \"r\") as file:\n",
        "    for line in file:\n",
        "        print(line.strip())\n"
      ],
      "metadata": {
        "colab": {
          "base_uri": "https://localhost:8080/"
        },
        "id": "rScDhNf0AnUH",
        "outputId": "b17c43fc-ddd5-4236-d40b-8b3bc6f3cb95"
      },
      "execution_count": null,
      "outputs": [
        {
          "output_type": "stream",
          "name": "stdout",
          "text": [
            "Hello, this is a test file.\n"
          ]
        }
      ]
    },
    {
      "cell_type": "markdown",
      "source": [
        "3.  How would you handle a case where the file doesn't exist while trying to open it for reading?"
      ],
      "metadata": {
        "id": "ZxxHf-laAvnk"
      }
    },
    {
      "cell_type": "code",
      "source": [
        "try:\n",
        "    with open(\"example.txt\", \"r\") as file:\n",
        "        for line in file:\n",
        "            print(line.strip())\n",
        "except FileNotFoundError:\n",
        "    print(\"Error: The file does not exist.\")\n"
      ],
      "metadata": {
        "id": "0dwg1xfTAq_h"
      },
      "execution_count": null,
      "outputs": []
    },
    {
      "cell_type": "markdown",
      "source": [
        "4. Write a Python script that reads from one file and writes its content to another file?"
      ],
      "metadata": {
        "id": "pNPwhwnzA7nk"
      }
    },
    {
      "cell_type": "code",
      "source": [
        "with open(\"source.txt\", \"r\") as source_file, open(\"destination.txt\", \"w\") as destination_file:\n",
        "    for line in source_file:\n",
        "        destination_file.write(line)\n",
        "\n",
        "print(\"File content copied successfully!\")\n"
      ],
      "metadata": {
        "id": "aYRTFPxJBDrE"
      },
      "execution_count": null,
      "outputs": []
    },
    {
      "cell_type": "markdown",
      "source": [
        "5. How would you catch and handle division by zero error in Python?"
      ],
      "metadata": {
        "id": "Qf8JwGV4BJpW"
      }
    },
    {
      "cell_type": "code",
      "source": [
        "try:\n",
        "    num1 = 10\n",
        "    num2 = 0\n",
        "    result = num1 / num2\n",
        "except ZeroDivisionError:\n",
        "    print(\"Error: Division by zero is not allowed.\")\n",
        "else:\n",
        "    print(\"Result:\", result)\n"
      ],
      "metadata": {
        "id": "oaInm9GeBex4"
      },
      "execution_count": null,
      "outputs": []
    },
    {
      "cell_type": "markdown",
      "source": [
        "6. Write a Python program that logs an error message to a log file when a division by zero exception occurs?"
      ],
      "metadata": {
        "id": "658yS_KvBj_V"
      }
    },
    {
      "cell_type": "code",
      "source": [
        "import logging\n",
        "logging.basicConfig(filename=\"error.log\", level=logging.ERROR,\n",
        "                    format=\"%(asctime)s - %(levelname)s - %(message)s\")\n",
        "\n",
        "def divide_numbers(a, b):\n",
        "    try:\n",
        "        result = a / b\n",
        "        return result\n",
        "    except ZeroDivisionError:\n",
        "        logging.error(\"Division by zero error occurred.\")\n",
        "        return \"Error: Cannot divide by zero.\"\n",
        "num1 = 10\n",
        "num2 = 0\n",
        "print(divide_numbers(num1, num2))\n"
      ],
      "metadata": {
        "id": "hytLnOOSB0K3"
      },
      "execution_count": null,
      "outputs": []
    },
    {
      "cell_type": "markdown",
      "source": [
        "7. F How do you log information at different levels (INFO, ERROR, WARNING) in Python using the logging module?"
      ],
      "metadata": {
        "id": "q3sxxHkWB7ns"
      }
    },
    {
      "cell_type": "code",
      "source": [
        "import logging\n",
        "logging.basicConfig(filename=\"app.log\", level=logging.DEBUG,\n",
        "                    format=\"%(asctime)s - %(levelname)s - %(message)s\")\n",
        "logging.debug(\"This is a debug message.\")\n",
        "logging.info(\"This is an info message.\")\n",
        "logging.warning(\"This is a warning message.\")\n",
        "logging.error(\"This is an error message.\")\n",
        "logging.critical(\"This is a critical message.\")"
      ],
      "metadata": {
        "id": "URy2N43ZCHO_"
      },
      "execution_count": null,
      "outputs": []
    },
    {
      "cell_type": "markdown",
      "source": [
        "8. Write a program to handle a file opening error using exception handling?"
      ],
      "metadata": {
        "id": "nshcFlRACQLh"
      }
    },
    {
      "cell_type": "code",
      "source": [
        "try:\n",
        "    with open(\"non_existent_file.txt\", \"r\") as file:\n",
        "        content = file.read()\n",
        "        print(content)\n",
        "except FileNotFoundError:\n",
        "    print(\"Error: The file does not exist. Please check the filename and try again.\")\n",
        "except PermissionError:\n",
        "    print(\"Error: You don't have permission to access this file.\")\n",
        "except Exception as e:\n",
        "    print(f\"An unexpected error occurred: {e}\")\n"
      ],
      "metadata": {
        "id": "40I-RR6ICYly"
      },
      "execution_count": null,
      "outputs": []
    },
    {
      "cell_type": "markdown",
      "source": [
        "9.  How can you read a file line by line and store its content in a list in Python?"
      ],
      "metadata": {
        "id": "428HfCnKCbWn"
      }
    },
    {
      "cell_type": "code",
      "source": [
        "with open(\"example.txt\", \"r\") as file:\n",
        "    lines = file.readlines()\n",
        "\n",
        "print(lines)\n"
      ],
      "metadata": {
        "id": "OjYjiOGFCscT"
      },
      "execution_count": null,
      "outputs": []
    },
    {
      "cell_type": "markdown",
      "source": [
        "10. How can you append data to an existing file in Python?"
      ],
      "metadata": {
        "id": "yrSTNXD6DRqT"
      }
    },
    {
      "cell_type": "code",
      "source": [
        "\n",
        "with open(\"example.txt\", \"a\") as file:\n",
        "    file.write(\"\\nThis is a new line appended to the file.\")\n",
        "\n",
        "print(\"Data appended successfully!\")\n"
      ],
      "metadata": {
        "id": "_GwAaHqoDOSM"
      },
      "execution_count": null,
      "outputs": []
    },
    {
      "cell_type": "markdown",
      "source": [
        "11. Write a Python program that uses a try-except block to handle an error when attempting to access a\n",
        "dictionary key that doesn't exist?"
      ],
      "metadata": {
        "id": "GUdb6a72DjHp"
      }
    },
    {
      "cell_type": "code",
      "source": [
        "\n",
        "student_scores = {\"Alice\": 85, \"Bob\": 90, \"Charlie\": 78}\n",
        "\n",
        "try:\n",
        "    score = student_scores[\"David\"]\n",
        "    print(f\"David's score: {score}\")\n",
        "except KeyError:\n",
        "    print(\"Error: The key does not exist in the dictionary.\")\n"
      ],
      "metadata": {
        "id": "ckGZQAM6Dp_S"
      },
      "execution_count": null,
      "outputs": []
    },
    {
      "cell_type": "markdown",
      "source": [
        "12. Write a program that demonstrates using multiple except blocks to handle different types of exceptions?"
      ],
      "metadata": {
        "id": "8tHigq-9D3pe"
      }
    },
    {
      "cell_type": "code",
      "source": [
        "try:\n",
        "    num1 = int(input(\"Enter numerator: \"))\n",
        "    num2 = int(input(\"Enter denominator: \"))\n",
        "\n",
        "    result = num1 / num2\n",
        "    print(f\"Result: {result}\")\n",
        "\n",
        "\n",
        "    data = {\"name\": \"Alice\"}\n",
        "    print(data\n"
      ],
      "metadata": {
        "id": "fR6QeHeMEEHT"
      },
      "execution_count": null,
      "outputs": []
    },
    {
      "cell_type": "markdown",
      "source": [
        "13. How would you check if a file exists before attempting to read it in Python?"
      ],
      "metadata": {
        "id": "EIovo1rZEQS7"
      }
    },
    {
      "cell_type": "code",
      "source": [
        "import os\n",
        "\n",
        "file_path = \"example.txt\"\n",
        "\n",
        "if os.path.exists(file_path):\n",
        "    with open(file_path, \"r\") as file:\n",
        "        content = file.read()\n",
        "        print(content)\n",
        "else:\n",
        "    print(\"Error: The file does not exist.\")\n"
      ],
      "metadata": {
        "id": "NeibLFpNEZ1m"
      },
      "execution_count": null,
      "outputs": []
    },
    {
      "cell_type": "markdown",
      "source": [
        "14. Write a program that uses the logging module to log both informational and error messages?"
      ],
      "metadata": {
        "id": "8PGZOG-yEobC"
      }
    },
    {
      "cell_type": "code",
      "source": [
        "import logging\n",
        "\n",
        "# Configure logging to write to a file\n",
        "logging.basicConfig(filename=\"app.log\", level=logging.DEBUG,\n",
        "                    format=\"%(asctime)s - %(levelname)s - %(message)s\")\n",
        "\n",
        "def divide_numbers(a, b):\n",
        "    try:\n",
        "        result = a / b\n",
        "        logging.info(f\"Division successful: {a} / {b} = {result}\")  # Log success message\n",
        "        return result\n",
        "    except ZeroDivisionError:\n",
        "        logging.error(\"Error: Division by zero attempted.\")  # Log error message\n",
        "        return \"Error: Cannot divide by zero.\"\n",
        "\n",
        "# Example usage\n",
        "print(divide_numbers(10, 2))  # Logs an info message\n",
        "print(divide_numbers(5, 0))   # Logs an error message\n"
      ],
      "metadata": {
        "colab": {
          "base_uri": "https://localhost:8080/"
        },
        "id": "Oah7jYOKFGJh",
        "outputId": "e0b4ff78-f858-44a4-bfe8-967ef6c3ce45"
      },
      "execution_count": null,
      "outputs": [
        {
          "output_type": "stream",
          "name": "stderr",
          "text": [
            "ERROR:root:Error: Division by zero attempted.\n"
          ]
        },
        {
          "output_type": "stream",
          "name": "stdout",
          "text": [
            "5.0\n",
            "Error: Cannot divide by zero.\n"
          ]
        }
      ]
    },
    {
      "cell_type": "markdown",
      "source": [
        "15. Write a Python program that prints the content of a file and handles the case when the file is empty?"
      ],
      "metadata": {
        "id": "SVz0mBFUE70F"
      }
    },
    {
      "cell_type": "code",
      "source": [
        "import os\n",
        "\n",
        "def read_file(file_path):\n",
        "    try:\n",
        "\n",
        "        if not os.path.exists(file_path):\n",
        "            print(\"Error: The file does not exist.\")\n",
        "            return\n",
        "\n",
        "        with open(file_path, \"r\") as file:\n",
        "            content = file.read().strip()\n",
        "\n",
        "            if not content:\n",
        "                print(\"The file is empty.\")\n",
        "            else:\n",
        "                print(\"File Content:\\n\", content)\n",
        "\n",
        "    except Exception as e:\n",
        "        print(f\"An unexpected error occurred: {e}\")\n",
        "file_path = \"example.txt\"\n",
        "read_file(file_path)\n"
      ],
      "metadata": {
        "id": "QeJe016aFxVV"
      },
      "execution_count": null,
      "outputs": []
    },
    {
      "cell_type": "markdown",
      "source": [
        "16. Demonstrate how to use memory profiling to check the memory usage of a small program?"
      ],
      "metadata": {
        "id": "5tt0mG3aF7zw"
      }
    },
    {
      "cell_type": "code",
      "source": [
        "from memory_profiler import profile\n",
        "\n",
        "@profile\n",
        "def memory_intensive_function():\n",
        "    # Create a large list to simulate memory usage\n",
        "    large_list = [i for i in range(100000)]\n",
        "    sum_of_list = sum(large_list)  # Perform an operation\n",
        "    del large_list  # Free memory\n",
        "    return sum_of_list\n",
        "\n",
        "if __name__ == \"__main__\":\n",
        "    memory_intensive_function()\n"
      ],
      "metadata": {
        "id": "RveDE48XGO8G"
      },
      "execution_count": null,
      "outputs": []
    },
    {
      "cell_type": "markdown",
      "source": [
        "17. Write a Python program to create and write a list of numbers to a file, one number per line?"
      ],
      "metadata": {
        "id": "tAYz-4DuGXIp"
      }
    },
    {
      "cell_type": "code",
      "source": [
        "\n",
        "numbers = list(range(1, 11))\n",
        "\n",
        "with open(\"numbers.txt\", \"w\") as file:\n",
        "    for number in numbers:\n",
        "        file.write(f\"{number}\\n\")\n",
        "\n",
        "print(\"Numbers written to numbers.txt successfully!\")\n"
      ],
      "metadata": {
        "id": "RJst_xy0GtXD"
      },
      "execution_count": null,
      "outputs": []
    },
    {
      "cell_type": "markdown",
      "source": [
        "18.  How would you implement a basic logging setup that logs to a file with rotation after 1MB?"
      ],
      "metadata": {
        "id": "xmuKWAo_GxhS"
      }
    },
    {
      "cell_type": "code",
      "source": [
        "import logging\n",
        "from logging.handlers import RotatingFileHandler\n",
        "\n",
        "# Configure logging\n",
        "log_file = \"app.log\"\n",
        "log_handler = RotatingFileHandler(log_file, maxBytes=1_000_000, backupCount=3)  # 1MB per file, keep 3 backups\n",
        "\n",
        "logging.basicConfig(\n",
        "    level=logging.INFO,\n",
        "    format=\"%(asctime)s - %(levelname)s - %(message)s\",\n",
        "    handlers=[log_handler]\n",
        ")\n",
        "\n",
        "# Example logs\n",
        "for i in range(10000):  # Generate logs to test rotation\n",
        "    logging.info(f\"Log message {i}\")\n"
      ],
      "metadata": {
        "id": "eaPbTFL4G3DX"
      },
      "execution_count": null,
      "outputs": []
    },
    {
      "cell_type": "markdown",
      "source": [
        "19. Write a program that handles both IndexError and KeyError using a try-except block"
      ],
      "metadata": {
        "id": "j7w4mwo-G7RK"
      }
    },
    {
      "cell_type": "code",
      "source": [
        "def handle_errors():\n",
        "    my_list = [10, 20, 30]\n",
        "    my_dict = {\"name\": \"Alice\", \"age\": 25}\n",
        "\n",
        "    try:\n",
        "        # Attempt to access an out-of-range index (IndexError)\n",
        "        print(f\"List element: {my_list[5]}\")\n",
        "\n",
        "        # Attempt to access a missing key in dictionary (KeyError)\n",
        "        print(f\"City: {my_dict['city']}\")\n",
        "\n",
        "    except IndexError:\n",
        "        print(\"Error: List index out of range.\")\n",
        "\n",
        "    except KeyError:\n",
        "        print(\"Error: Key not found in the dictionary.\")\n",
        "\n",
        "# Run the function\n",
        "handle_errors()\n"
      ],
      "metadata": {
        "id": "o5TjCmATHBLz"
      },
      "execution_count": null,
      "outputs": []
    },
    {
      "cell_type": "markdown",
      "source": [
        "20.  How would you open a file and read its contents using a context manager in Python?"
      ],
      "metadata": {
        "id": "cpE45o3hHF1R"
      }
    },
    {
      "cell_type": "code",
      "source": [
        "# Open and read a file using 'with' statement\n",
        "file_path = \"example.txt\"\n",
        "\n",
        "try:\n",
        "    with open(file_path, \"r\") as file:  # Open file in read mode\n",
        "        content = file.read()  # Read the file content\n",
        "        print(\"File Content:\\n\", content)\n",
        "except FileNotFoundError:\n",
        "    print(\"Error: The file does not exist.\")\n",
        "except Exception as e:\n",
        "    print(f\"An unexpected error occurred: {e}\")\n"
      ],
      "metadata": {
        "id": "Bed_DB9ZHLHH"
      },
      "execution_count": null,
      "outputs": []
    },
    {
      "cell_type": "markdown",
      "source": [
        "21. Write a Python program that reads a file and prints the number of occurrences of a specific word?"
      ],
      "metadata": {
        "id": "496JBm--Z2P0"
      }
    },
    {
      "cell_type": "code",
      "source": [
        "def count_word_occurrences(file_path, target_word):\n",
        "    try:\n",
        "        with open(file_path, \"r\") as file:  # Open file in read mode\n",
        "            content = file.read().lower()   # Read file and convert to lowercase\n",
        "            words = content.split()         # Split text into words\n",
        "            count = words.count(target_word.lower())  # Count occurrences of target word\n",
        "\n",
        "            print(f\"The word '{target_word}' appears {count} times in the file.\")\n",
        "\n",
        "    except FileNotFoundError:\n",
        "        print(\"Error: The file does not exist.\")\n",
        "    except Exception as e:\n",
        "        print(f\"An unexpected error occurred: {e}\")\n",
        "\n",
        "# Example usage\n",
        "file_path = \"example.txt\"  # Replace with your file name\n",
        "target_word = \"Python\"  # Replace with the word you want to count\n",
        "count_word_occurrences(file_path, target_word)\n"
      ],
      "metadata": {
        "id": "kgbKtz8eZ4-p"
      },
      "execution_count": null,
      "outputs": []
    },
    {
      "cell_type": "markdown",
      "source": [
        "22.  How can you check if a file is empty before attempting to read its contents?"
      ],
      "metadata": {
        "id": "LxC6usohaLrU"
      }
    },
    {
      "cell_type": "code",
      "source": [
        "import os\n",
        "\n",
        "file_path = \"example.txt\"  # Replace with your file name\n",
        "\n",
        "if os.path.exists(file_path) and os.path.getsize(file_path) == 0:\n",
        "    print(\"The file is empty.\")\n",
        "else:\n",
        "    with open(file_path, \"r\") as file:\n",
        "        content = file.read()\n",
        "        print(\"File Content:\\n\", content)\n"
      ],
      "metadata": {
        "id": "iL1hK3A9aSuP"
      },
      "execution_count": null,
      "outputs": []
    },
    {
      "cell_type": "markdown",
      "source": [
        "23. Write a Python program that writes to a log file when an error occurs during file handling"
      ],
      "metadata": {
        "id": "zsELVjbFaerU"
      }
    },
    {
      "cell_type": "markdown",
      "source": [
        "import logging\n",
        "\n",
        "# Configure logging\n",
        "logging.basicConfig(\n",
        "    filename=\"file_errors.log\",  # Log file name\n",
        "    level=logging.ERROR,         # Log only errors and above\n",
        "    format=\"%(asctime)s - %(levelname)s - %(message)s\",\n",
        ")\n",
        "\n",
        "def read_file(file_path):\n",
        "    try:\n",
        "        with open(file_path, \"r\") as file:\n",
        "            content = file.read()\n",
        "            print(\"File Content:\\n\", content)\n",
        "   \n",
        "        logging.error(f\"FileNotFoundError: The file '{file_path}' does not exist.\")\n",
        "        print(\"Error: The file does not exist.\")\n",
        "  \n",
        "        logging.error(f\"PermissionError: No permission to read '{file_path}'.\")\n",
        "        print(\"Error: No permission to read the file.\")\n",
        "  \n",
        "        logging.error(f\"Unexpected Error: {e}\")\n",
        "        print(\"An unexpected error occurred.\")\n",
        "file_path = \"non_existent_file.txt\"  # Change to test with different files\n",
        "read_file(file_path)\n"
      ],
      "metadata": {
        "id": "orgX5AI8at3K"
      }
    }
  ]
}